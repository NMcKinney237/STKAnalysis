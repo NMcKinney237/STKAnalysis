{
 "cells": [
  {
   "cell_type": "code",
   "execution_count": 22,
   "metadata": {},
   "outputs": [],
   "source": [
    "#Import Necessary Libraries\n",
    "\n",
    "import pandas as pd\n",
    "import numpy as np\n",
    "from bs4 import BeautifulSoup as bsoup\n",
    "from urllib.request import Request, urlopen\n",
    "import seaborn as sb\n",
    "import bokeh as bokeh"
   ]
  },
  {
   "cell_type": "markdown",
   "metadata": {},
   "source": [
    "#Create Prompt for Search\n",
    "\n",
    "Ticker = input ('Enter The Stock Ticker You Want to Analyze:')\n",
    "\n",
    "Ticker = print ('Getting data for ' + Ticker + '...')"
   ]
  },
  {
   "cell_type": "code",
   "execution_count": 23,
   "metadata": {},
   "outputs": [],
   "source": [
    "#Finviz URL\n",
    "\n",
    "Finviz_URL = ('https://finviz.com/quote.ashx?t=')"
   ]
  },
  {
   "cell_type": "code",
   "execution_count": 24,
   "metadata": {},
   "outputs": [
    {
     "name": "stdout",
     "output_type": "stream",
     "text": [
      "Accessing Finviz.com...\n"
     ]
    }
   ],
   "source": [
    "#Request API\n",
    "\n",
    "req1= Request(Finviz_URL, headers = {'User-Agent': 'Chrome/88.0.4324.150'})\n",
    "\n",
    "webpage1 = urlopen(req1).read()\n",
    "\n",
    "print ('Accessing Finviz.com' + '...')"
   ]
  }
 ],
 "metadata": {
  "kernelspec": {
   "display_name": "Python 3",
   "language": "python",
   "name": "python3"
  },
  "language_info": {
   "codemirror_mode": {
    "name": "ipython",
    "version": 3
   },
   "file_extension": ".py",
   "mimetype": "text/x-python",
   "name": "python",
   "nbconvert_exporter": "python",
   "pygments_lexer": "ipython3",
   "version": "3.8.5"
  }
 },
 "nbformat": 4,
 "nbformat_minor": 4
}
